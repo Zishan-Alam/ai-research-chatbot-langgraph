{
 "cells": [
  {
   "cell_type": "code",
   "execution_count": 1,
   "metadata": {},
   "outputs": [],
   "source": [
    "## tools\n",
    "\n",
    "from langchain_community.tools import ArxivQueryRun,WikipediaQueryRun\n",
    "from langchain_community.utilities import WikipediaAPIWrapper,ArxivAPIWrapper"
   ]
  },
  {
   "cell_type": "code",
   "execution_count": 2,
   "metadata": {},
   "outputs": [
    {
     "name": "stdout",
     "output_type": "stream",
     "text": [
      "arxiv\n"
     ]
    }
   ],
   "source": [
    "api_wrapper_arxiv=ArxivAPIWrapper(top_k_results=2,doc_content_chars_max=500)\n",
    "arxiv=ArxivQueryRun(api_wrapper=api_wrapper_arxiv,description=\"Query arxiv papers\")\n",
    "print(arxiv.name)"
   ]
  },
  {
   "cell_type": "code",
   "execution_count": 3,
   "metadata": {},
   "outputs": [
    {
     "data": {
      "text/plain": [
       "'Published: 2023-05-23\\nTitle: Fast and energy-efficient non-volatile III-V-on-silicon photonic phase shifter based on memristors\\nAuthors: Zhuoran Fang, Bassem Tossoun, Antoine Descos, Di Liang, Xue Huang, Geza Kurczveil, Arka Majumdar, Raymond G. Beausoleil\\nSummary: Silicon photonics has evolved from lab research to commercial products in the\\npast decade as it plays an increasingly crucial role in data communication for\\nnext-generation data centers and high performance computing1. Recently,\\nprogr'"
      ]
     },
     "execution_count": 3,
     "metadata": {},
     "output_type": "execute_result"
    }
   ],
   "source": [
    "arxiv.invoke(\"What is the latest research on quantum computing?\")"
   ]
  },
  {
   "cell_type": "code",
   "execution_count": 4,
   "metadata": {},
   "outputs": [
    {
     "data": {
      "text/plain": [
       "'wikipedia'"
      ]
     },
     "execution_count": 4,
     "metadata": {},
     "output_type": "execute_result"
    }
   ],
   "source": [
    "api_wrapper_wiki=WikipediaAPIWrapper(top_k_results=1,doc_content_chars_max=500)\n",
    "wiki=WikipediaQueryRun(api_wrapper=api_wrapper_wiki)\n",
    "wiki.name"
   ]
  },
  {
   "cell_type": "code",
   "execution_count": 5,
   "metadata": {},
   "outputs": [],
   "source": [
    "from dotenv import load_dotenv\n",
    "load_dotenv()\n",
    "\n",
    "import os\n",
    "\n",
    "os.environ[\"TAVILY_API_KEY\"]=os.getenv(\"TAVILY_API_KEY\")\n",
    "os.environ[\"GROQ_API_KEY\"]=os.getenv(\"GROQ_API_KEY\")"
   ]
  },
  {
   "cell_type": "code",
   "execution_count": 6,
   "metadata": {},
   "outputs": [],
   "source": [
    "### Tavily Search Tool\n",
    "from langchain_community.tools.tavily_search import TavilySearchResults\n",
    "\n",
    "tavily = TavilySearchResults()"
   ]
  },
  {
   "cell_type": "code",
   "execution_count": 8,
   "metadata": {},
   "outputs": [
    {
     "data": {
      "text/plain": [
       "[{'title': 'AI News | Latest AI News, Analysis & Events',\n",
       "  'url': 'https://www.artificialintelligence-news.com/',\n",
       "  'content': 'March 4, 2025\\nAutoscience Carl: The first AI scientist writing peer-reviewed papers\\nApplications\\nMarch 3, 2025\\nDeep Learning\\nAlibaba Qwen QwQ-32B: Scaled reinforcement learning showcase\\nArtificial Intelligence\\nMarch 6, 2025\\nDeepSeek-R1 reasoning models rival OpenAI in performance\\nArtificial Intelligence\\nJanuary 20, 2025\\nNew AI training techniques aim to overcome current challenges\\nDeep & Reinforcement Learning\\nNovember 28, 2024 [...] Artificial Intelligence\\nMarch 14, 2025\\nOpenAI and Google call for US government action to secure AI lead\\n\\nArtificial Intelligence\\nMarch 14, 2025\\nCBRE: Leveraging Artificial Intelligence for business growth\\n\\nAGI\\nMarch 14, 2025\\nManus AI agent: breakthrough in China’s agentic AI\\n\\nApplications\\nMarch 13, 2025\\nServiceNow deploys AI agents to boost enterprise workflows [...] AI News\\nMarch 20, 2025\\nUK minister in US to pitch Britain as global AI investment hub\\n\\nTelecoms Tech News\\nMarch 20, 2025\\nOfcom plans rules to drive UK full-fibre broadband to 96% coverage\\n\\nMarketing Tech News\\nMarch 20, 2025\\nOracle continues talks with White House to run TikTok\\n\\nMarketing Tech News\\nMarch 19, 2025\\nSocial media platforms face fines and criminal prosecution in UK\\n\\nAI News\\nMarch 19, 2025\\nNVIDIA Dynamo: Scaling AI inference with open-source efficiency',\n",
       "  'score': 0.80735475},\n",
       " {'title': 'Artificial Intelligence News - ScienceDaily',\n",
       "  'url': 'https://www.sciencedaily.com/news/computers_math/artificial_intelligence/',\n",
       "  'content': \"Using Robots in Nursing Homes Linked to Higher Employee Retention, Better Patient Care\\n\\nMonday, January 6, 2025\\n\\nAI Slashes Cost and Time for Chip Design, but That Is Not All\\n\\nThursday, January 2, 2025\\n\\nArtificial Intelligence: Algorithms Improve Medical Image Analysis\\n\\nFriday, December 27, 2024\\n\\nCrossing the Uncanny Valley: Breakthrough in Technology for Lifelike Facial Expressions in Androids\\n\\nThursday, December 26, 2024\\n\\nWind Sensing by Biomimetic Flexible Flapping Wing With Strain Sensors [...] Tuesday, November 12, 2024\\n\\nGiving Robots Superhuman Vision Using Radio Signals\\n\\nMonday, November 11, 2024\\n\\nAI Can Detect Serious Neurologic Changes in Babies in the NICU Using Video Data Alone\\nRobot That Watched Surgery Videos Performs With Skill of Human Doctor, Researchers Report\\n\\nThursday, November 7, 2024\\n\\nRobot Learns How to Clean a Washbasin\\n\\nWednesday, November 6, 2024\\n\\nAI-Driven Mobile Robots Team Up to Tackle Chemical Synthesis\\n\\nThursday, October 31, 2024 [...] Thursday, December 19, 2024\\n\\nMachine Psychology: A Bridge to General AI?\\nLaser-Based Artificial Neuron Mimics Nerve Cell Functions at Lightning Speed\\n\\nWednesday, December 18, 2024\\n\\nSwarms of 'ant-Like' Robots Lift Heavy Objects and Hurl Themselves Over Obstacles\\n\\nTuesday, December 17, 2024\\n\\nDeveloping Artificial Intelligence Tools for Health Care\\nTiny Robots, Big Impact: Revolutionizing Infertility Treatment With Magnetic Microrobots\\n\\nMonday, December 16, 2024\",\n",
       "  'score': 0.7593865},\n",
       " {'title': 'AI News & Artificial Intelligence | TechCrunch',\n",
       "  'url': 'https://techcrunch.com/category/artificial-intelligence/',\n",
       "  'content': 'Maxwell Zeff\\n\\n4 days ago\\n\\n\\n\\nMedia & Entertainment\\nYouTube rolls out a free AI music-making tool for creators\\n\\nSarah Perez\\n\\n4 days ago\\n\\n\\n\\nAI\\nAmazon CEO Andy Jassy urges companies to invest heavily in AI\\n\\nRebecca Szkutak\\n\\n4 days ago\\n\\n\\n\\nClimate\\nGoogle thinks AI can untangle the electrical grid’s bureaucracy\\n\\nTim De Chant\\n\\n4 days ago\\n\\n\\n\\nAI\\nIncident.io raises $62M at a $400M valuation to help IT teams move fast when things break\\n\\nIngrid Lunden\\n\\n4 days ago [...] AI\\nThe rise of AI ‘reasoning’ models is making benchmarking more expensive\\n\\nKyle Wiggers\\n\\n4 days ago\\n\\n\\n\\nFintech\\nAI insurtech Ominimo bags its first investment at a $220M valuation\\n\\nIngrid Lunden\\n\\n4 days ago\\n\\n\\n\\nAI\\nElon Musk’s AI company, xAI, launches an API for Grok 3\\n\\nKyle Wiggers\\n\\n4 days ago\\n\\n\\n\\nAI\\nGoogle to embrace Anthropic’s standard for connecting AI models to data\\n\\nKyle Wiggers\\n\\n5 days ago\\n\\n\\n\\nAI\\nOpenAI countersues Elon Musk, calls for enjoinment from ‘further unlawful and unfair action’ [...] AI\\nAI models still struggle to debug software, Microsoft study shows\\n\\nKyle Wiggers\\n\\n4 days ago\\n\\n\\n\\nAI\\nThe US Secretary of Education referred to AI as ‘A1,’ like the steak sauce\\n\\nAmanda Silberling\\n\\n4 days ago\\n\\n\\n\\nApps\\nCanva is getting AI image generation, interactive coding, spreadsheets, and more\\n\\nIvan Mehta\\n\\n4 days ago\\n\\n\\n\\nAI\\nLiveKit’s tools power real-time communications, including OpenAI’s Voice Mode\\n\\nKyle Wiggers\\n\\n4 days ago\\n\\n\\n\\nAI\\nOpenAI updates ChatGPT to reference your past chats',\n",
       "  'score': 0.6867278},\n",
       " {'title': 'Artificial intelligence - NBC News',\n",
       "  'url': 'https://www.nbcnews.com/artificial-intelligence',\n",
       "  'content': \"ARTIFICIAL INTELLIGENCE\\nThe latest news and top stories on artificial intelligence, including ChatGPT, AI Chatbot and Bard.\\n Getty Images\\nARTIFICIAL INTELLIGENCE\\n'Billionaires versus billionaires': OpenAI feud between Elon Musk, Sam Altman faces federal judge\\n SeongJoon Cho / Bloomberg via Getty Images file\\nARTIFICIAL INTELLIGENCE\\nOpenAI partners with U.S. National Laboratories on scientific research, nuclear weapons security\\nAI NEWS\",\n",
       "  'score': 0.6549173}]"
      ]
     },
     "execution_count": 8,
     "metadata": {},
     "output_type": "execute_result"
    }
   ],
   "source": [
    "tavily.invoke(\"Provide me the recent AI news?\")"
   ]
  },
  {
   "cell_type": "code",
   "execution_count": 7,
   "metadata": {},
   "outputs": [],
   "source": [
    "## combine all these tools in the list\n",
    "tools=[arxiv, wiki, tavily]"
   ]
  },
  {
   "cell_type": "code",
   "execution_count": 8,
   "metadata": {},
   "outputs": [],
   "source": [
    "## Initialize the LLM Model\n",
    "from langchain_groq import ChatGroq\n",
    "\n",
    "llm=ChatGroq(model=\"qwen-qwq-32b\")\n"
   ]
  },
  {
   "cell_type": "code",
   "execution_count": 9,
   "metadata": {},
   "outputs": [
    {
     "data": {
      "text/plain": [
       "AIMessage(content='\\n<think>\\nOkay, the user is asking, \"What is AI?\" I need to explain this clearly. Let me start by defining AI in simple terms. Maybe mention that AI stands for Artificial Intelligence. Should I explain it as making machines intelligent? That\\'s a common approach. But I should make sure to cover both the basic definition and some key aspects.\\n\\nHmm, perhaps I should break it down into parts. First, the basic definition: AI refers to the simulation of human intelligence in machines. But wait, does that cover everything? Maybe add that these machines can perform tasks that typically require human intelligence, like learning, problem-solving, decision-making, etc.\\n\\nNow, I should consider different types of AI. Maybe mention the two main categories: Narrow or Weak AI and General or Strong AI. Narrow AI is for specific tasks, like voice assistants or recommendation systems. General AI would be more human-like, but that\\'s still theoretical. Also, maybe touch on the techniques used, like machine learning, deep learning, neural networks. Wait, the user might not know those terms, so I should explain them briefly.\\n\\nApplications are important too. Examples like self-driving cars, chatbots, medical diagnosis, etc. This helps illustrate the concept. Also, mention the importance of data in AI—training models with data to make predictions or decisions.\\n\\nI should also address common misconceptions. For instance, AI isn\\'t just about robots; it includes software. And it\\'s not sentient yet, right? Emphasize that current AI is task-specific and lacks consciousness.\\n\\nMaybe structure it with sections: Definition, Types, Key Technologies, Applications, and Current State. That way it\\'s organized and easy to follow. Also, use simple language without too much jargon unless necessary, and when used, explain it.\\n\\nWait, the user might be a beginner, so avoiding overly technical terms is better. Keep sentences short. Let me make sure I don\\'t miss the key points: what AI is, how it works, current uses, and maybe touch on future possibilities but clarify where we are now.\\n\\nAlso, should I mention the fields that contribute to AI, like computer science, cognitive science, etc.? Maybe briefly. Oh, and maybe a sentence on the goals of AI—like solving complex problems, automating tasks, etc.\\n\\nLet me check if I have all the components: definition, types (narrow vs general), technologies (ML, NN), applications (examples), and current limitations. That should cover the basics without overwhelming the user. Alright, putting it all together in a coherent way now.\\n</think>\\n\\nArtificial Intelligence (AI) refers to the development of computer systems that can perform tasks requiring human-like intelligence, such as learning, problem-solving, decision-making, and perception. These systems can analyze data, recognize patterns, and adapt to new information to accomplish specific goals. Here\\'s a structured breakdown:\\n\\n### **1. Definition**\\n- **Core Idea**: AI enables machines to mimic human cognitive abilities, such as understanding language, recognizing images, or making decisions.\\n- **Purpose**: To automate tasks, solve complex problems, and enhance decision-making by processing vast amounts of data more efficiently than humans.\\n\\n---\\n\\n### **2. Types of AI**\\n- **Narrow (Weak) AI**:  \\n  - **What it is**: Systems designed for specific, narrow tasks.  \\n  - **Examples**:  \\n    - Voice assistants (e.g., Siri, Alexa).  \\n    - Recommendation systems (e.g., Netflix, Spotify).  \\n    - Image recognition (e.g., facial recognition software).  \\n  - **Limitation**: Lacks generalized intelligence and cannot perform tasks beyond its programmed scope.\\n\\n- **General (Strong) AI**:  \\n  - **What it is**: Hypothetical systems with human-like intelligence, capable of reasoning, planning, and learning across diverse tasks.  \\n  - **Status**: Not yet achieved; still a topic of research and speculation.\\n\\n---\\n\\n### **3. Key Technologies Behind AI**\\n- **Machine Learning (ML)**:  \\n  - AI systems learn from data to improve performance on a task over time without explicit programming.  \\n  - Example: Spam filters learning to distinguish between spam and legitimate emails.  \\n\\n- **Deep Learning**:  \\n  - A subset of ML using **artificial neural networks** (inspired by the human brain) to process complex data like images, sound, or text.  \\n  - Example: Self-driving cars recognizing traffic signs or pedestrians.  \\n\\n- **Natural Language Processing (NLP)**:  \\n  - Enables machines to understand and generate human language.  \\n  - Example: Chatbots, language translation tools (e.g., Google Translate).  \\n\\n- **Computer Vision**:  \\n  - Allows systems to interpret visual data (images, videos).  \\n  - Example: Medical imaging analysis for disease detection.\\n\\n---\\n\\n### **4. Applications of AI**\\n- **Healthcare**: Diagnosing diseases, drug discovery, and personalized treatment plans.  \\n- **Business**: Customer service chatbots, fraud detection, and predictive analytics.  \\n- **Transportation**: Self-driving cars and route optimization for logistics.  \\n- **Entertainment**: Content recommendations (e.g., Netflix), video game NPCs (non-player characters).  \\n- **Education**: Adaptive learning platforms and automated grading.  \\n\\n---\\n\\n### **5. Current State & Limitations**\\n- **Advances**: Narrow AI is widespread in daily tech (e.g., smartphones, social media).  \\n- **Limitations**:  \\n  - **Lack of Consciousness**: Current systems are task-specific and lack true understanding or sentience.  \\n  - **Data Dependency**: Relies on large, high-quality datasets to function effectively.  \\n  - **Ethical Challenges**: Issues like bias, privacy concerns, and job displacement are actively debated.  \\n\\n---\\n\\n### **6. Goals and Future Potential**\\n- **Short-Term**: Improving existing technologies (e.g., better healthcare tools, autonomous vehicles).  \\n- **Long-Term**: Research into General AI (AGI), though this remains speculative and faces significant technical and ethical hurdles.  \\n\\n---\\n\\n### **Key Takeaway**\\nAI is not about creating \"thinking\" machines but about building tools that augment human capabilities. While it has revolutionized industries, it’s still a technology shaped and guided by human input, data, and ethics.  \\n\\nLet me know if you\\'d like deeper dives into specific areas!', additional_kwargs={}, response_metadata={'token_usage': {'completion_tokens': 1294, 'prompt_tokens': 13, 'total_tokens': 1307, 'completion_time': 3.160162813, 'prompt_time': 0.002878232, 'queue_time': 0.238627767, 'total_time': 3.163041045}, 'model_name': 'qwen-qwq-32b', 'system_fingerprint': 'fp_512a3da6bb', 'finish_reason': 'stop', 'logprobs': None}, id='run-5ce44f3d-ead4-4fab-80f7-442990943091-0', usage_metadata={'input_tokens': 13, 'output_tokens': 1294, 'total_tokens': 1307})"
      ]
     },
     "execution_count": 9,
     "metadata": {},
     "output_type": "execute_result"
    }
   ],
   "source": [
    "llm.invoke(\"What is AI\")"
   ]
  },
  {
   "cell_type": "code",
   "execution_count": 10,
   "metadata": {},
   "outputs": [],
   "source": [
    "llm_with_tools=llm.bind_tools(tools=tools)\n"
   ]
  },
  {
   "cell_type": "code",
   "execution_count": 16,
   "metadata": {},
   "outputs": [
    {
     "data": {
      "text/plain": [
       "AIMessage(content='', additional_kwargs={'tool_calls': [{'id': 'call_qcsv', 'function': {'arguments': '{\"query\": \"recent news on AI\"}', 'name': 'tavily_search_results_json'}, 'type': 'function'}]}, response_metadata={'token_usage': {'completion_tokens': 184, 'prompt_tokens': 356, 'total_tokens': 540, 'completion_time': 0.453847725, 'prompt_time': 0.035121491, 'queue_time': 0.23411395499999998, 'total_time': 0.488969216}, 'model_name': 'qwen-qwq-32b', 'system_fingerprint': 'fp_3796682456', 'finish_reason': 'tool_calls', 'logprobs': None}, id='run-3d7fc64c-2690-400d-af23-dd353c25d278-0', tool_calls=[{'name': 'tavily_search_results_json', 'args': {'query': 'recent news on AI'}, 'id': 'call_qcsv', 'type': 'tool_call'}], usage_metadata={'input_tokens': 356, 'output_tokens': 184, 'total_tokens': 540})"
      ]
     },
     "execution_count": 16,
     "metadata": {},
     "output_type": "execute_result"
    }
   ],
   "source": [
    "## Execute this call\n",
    "llm_with_tools.invoke(\"What is the recent news on AI?\")"
   ]
  },
  {
   "cell_type": "code",
   "execution_count": 17,
   "metadata": {},
   "outputs": [
    {
     "data": {
      "text/plain": [
       "AIMessage(content='', additional_kwargs={'tool_calls': [{'id': 'call_0byk', 'function': {'arguments': '{\"query\": \"quantum computing\"}', 'name': 'arxiv'}, 'type': 'function'}]}, response_metadata={'token_usage': {'completion_tokens': 234, 'prompt_tokens': 357, 'total_tokens': 591, 'completion_time': 0.579099459, 'prompt_time': 0.021951899, 'queue_time': 0.256202107, 'total_time': 0.601051358}, 'model_name': 'qwen-qwq-32b', 'system_fingerprint': 'fp_a91d9c2cfb', 'finish_reason': 'tool_calls', 'logprobs': None}, id='run-3b75b026-27f6-4c12-92af-7b43b88d2fac-0', tool_calls=[{'name': 'arxiv', 'args': {'query': 'quantum computing'}, 'id': 'call_0byk', 'type': 'tool_call'}], usage_metadata={'input_tokens': 357, 'output_tokens': 234, 'total_tokens': 591})"
      ]
     },
     "execution_count": 17,
     "metadata": {},
     "output_type": "execute_result"
    }
   ],
   "source": [
    "## Execute this call\n",
    "llm_with_tools.invoke(\"What is the latest research on quantum computing?\")\n"
   ]
  },
  {
   "cell_type": "code",
   "execution_count": 19,
   "metadata": {},
   "outputs": [
    {
     "data": {
      "text/plain": [
       "AIMessage(content='', additional_kwargs={'tool_calls': [{'id': 'call_3g6d', 'function': {'arguments': '{\"query\": \"Machine learning\"}', 'name': 'wikipedia'}, 'type': 'function'}]}, response_metadata={'token_usage': {'completion_tokens': 450, 'prompt_tokens': 353, 'total_tokens': 803, 'completion_time': 1.107638067, 'prompt_time': 0.045242907, 'queue_time': 0.256131906, 'total_time': 1.152880974}, 'model_name': 'qwen-qwq-32b', 'system_fingerprint': 'fp_fbb7e6cc39', 'finish_reason': 'tool_calls', 'logprobs': None}, id='run-738d7565-8e74-4d66-9b64-c771a07ac103-0', tool_calls=[{'name': 'wikipedia', 'args': {'query': 'Machine learning'}, 'id': 'call_3g6d', 'type': 'tool_call'}], usage_metadata={'input_tokens': 353, 'output_tokens': 450, 'total_tokens': 803})"
      ]
     },
     "execution_count": 19,
     "metadata": {},
     "output_type": "execute_result"
    }
   ],
   "source": [
    "## Execute this call\n",
    "llm_with_tools.invoke(\"What is machine learning?\")"
   ]
  },
  {
   "cell_type": "markdown",
   "metadata": {},
   "source": [
    "## Workflow "
   ]
  },
  {
   "cell_type": "code",
   "execution_count": 11,
   "metadata": {},
   "outputs": [],
   "source": [
    "## State Schema\n",
    "from typing_extensions import TypedDict\n",
    "from langchain_core.messages import AnyMessage ## Human message or AI message\n",
    "from typing import Annotated  ## labelling\n",
    "from langgraph.graph.message import add_messages  ## Reducers in Langgraph"
   ]
  },
  {
   "cell_type": "code",
   "execution_count": 12,
   "metadata": {},
   "outputs": [],
   "source": [
    "class State(TypedDict):\n",
    "    messages: Annotated[list[AnyMessage], add_messages]\n",
    "    "
   ]
  },
  {
   "cell_type": "code",
   "execution_count": 13,
   "metadata": {},
   "outputs": [],
   "source": [
    "### Entire Chatbot With LangGraph\n",
    "from IPython.display import Image, display\n",
    "from langgraph.graph import StateGraph, START, END\n",
    "from langgraph.prebuilt import ToolNode\n",
    "from langgraph.prebuilt import tools_condition"
   ]
  },
  {
   "cell_type": "code",
   "execution_count": null,
   "metadata": {},
   "outputs": [
    {
     "data": {
      "image/png": "[encoded data removed]",
      "text/plain": [
       "<IPython.core.display.Image object>"
      ]
     },
     "metadata": {},
     "output_type": "display_data"
    }
   ],
   "source": [
    "### Node definition\n",
    "def tool_calling_llm(state:State):\n",
    "    return {\"messages\":[llm_with_tools.invoke(state[\"messages\"])]}\n",
    "\n",
    "# Build graph\n",
    "builder = StateGraph(State)\n",
    "builder.add_node(\"tool_calling_llm\", tool_calling_llm)\n",
    "builder.add_node(\"tools\", ToolNode(tools))\n",
    "\n",
    "## Edgess\n",
    "builder.add_edge(START, \"tool_calling_llm\")\n",
    "builder.add_conditional_edges(\n",
    "    \"tool_calling_llm\",\n",
    "    # If the latest message (result) from assistant is a tool call -> tools_condition routes to tools\n",
    "    # If the latest message (result) from assistant is a not a tool call -> tools_condition routes to END\n",
    "    tools_condition,\n",
    ")\n",
    "builder.add_edge(\"tools\", END)\n",
    "\n",
    "graph = builder.compile()\n",
    "\n",
    "# View\n",
    "display(Image(graph.get_graph().draw_mermaid_png()))"
   ]
  },
  {
   "cell_type": "code",
   "execution_count": 26,
   "metadata": {},
   "outputs": [
    {
     "name": "stdout",
     "output_type": "stream",
     "text": [
      "================================\u001b[1m Human Message \u001b[0m=================================\n",
      "\n",
      "1706.03762\n",
      "==================================\u001b[1m Ai Message \u001b[0m==================================\n",
      "Tool Calls:\n",
      "  arxiv (call_6w4t)\n",
      " Call ID: call_6w4t\n",
      "  Args:\n",
      "    query: 1706.03762\n",
      "=================================\u001b[1m Tool Message \u001b[0m=================================\n",
      "Name: arxiv\n",
      "\n",
      "Published: 2023-08-02\n",
      "Title: Attention Is All You Need\n",
      "Authors: Ashish Vaswani, Noam Shazeer, Niki Parmar, Jakob Uszkoreit, Llion Jones, Aidan N. Gomez, Lukasz Kaiser, Illia Polosukhin\n",
      "Summary: The dominant sequence transduction models are based on complex recurrent or\n",
      "convolutional neural networks in an encoder-decoder configuration. The best\n",
      "performing models also connect the encoder and decoder through an attention\n",
      "mechanism. We propose a new simple network architecture, the Transformer, base\n"
     ]
    }
   ],
   "source": [
    "messages=graph.invoke({\"messages\":\"1706.03762\"})\n",
    "for m in messages['messages']:\n",
    "    m.pretty_print()"
   ]
  },
  {
   "cell_type": "code",
   "execution_count": 27,
   "metadata": {},
   "outputs": [
    {
     "name": "stdout",
     "output_type": "stream",
     "text": [
      "================================\u001b[1m Human Message \u001b[0m=================================\n",
      "\n",
      "Hi My name is Krish\n",
      "==================================\u001b[1m Ai Message \u001b[0m==================================\n",
      "\n",
      "Hello Krish! Nice to meet you. How can I assist you today? Let me know if you have any questions or need help with anything specific! 😊\n"
     ]
    }
   ],
   "source": [
    "messages=graph.invoke({\"messages\":\"Hi My name is Krish\"})\n",
    "for m in messages['messages']:\n",
    "    m.pretty_print()"
   ]
  },
  {
   "cell_type": "code",
   "execution_count": null,
   "metadata": {},
   "outputs": [],
   "source": [
    "### Node definition\n",
    "def tool_calling_llm(state:State):\n",
    "    return {\"messages\":[llm_with_tools.invoke(state[\"messages\"])]}\n",
    "\n",
    "# Build graph\n",
    "builder = StateGraph(State)\n",
    "builder.add_node(\"tool_calling_llm\", tool_calling_llm)\n",
    "builder.add_node(\"tools\", ToolNode(tools))\n",
    "\n",
    "## Edgess\n",
    "builder.add_edge(START, \"tool_calling_llm\")\n",
    "builder.add_conditional_edges(\n",
    "    \"tool_calling_llm\",\n",
    "    # If the latest message (result) from assistant is a tool call -> tools_condition routes to tools\n",
    "    # If the latest message (result) from assistant is a not a tool call -> tools_condition routes to END\n",
    "    tools_condition,\n",
    ")\n",
    "builder.add_edge(\"tools\", \"tool_calling_llm\")\n",
    "\n",
    "graph = builder.compile()\n",
    "\n",
    "# View\n",
    "display(Image(graph.get_graph().draw_mermaid_png()))"
   ]
  },
  {
   "cell_type": "code",
   "execution_count": 19,
   "metadata": {},
   "outputs": [
    {
     "name": "stdout",
     "output_type": "stream",
     "text": [
      "================================\u001b[1m Human Message \u001b[0m=================================\n",
      "\n",
      "What is the recent AI news and then please tell me the recent research paper on quantum computing?\n",
      "==================================\u001b[1m Ai Message \u001b[0m==================================\n",
      "Tool Calls:\n",
      "  tavily_search_results_json (call_a0v7)\n",
      " Call ID: call_a0v7\n",
      "  Args:\n",
      "    query: recent AI news\n",
      "  arxiv (call_0v1h)\n",
      " Call ID: call_0v1h\n",
      "  Args:\n",
      "    query: recent quantum computing research\n",
      "=================================\u001b[1m Tool Message \u001b[0m=================================\n",
      "Name: tavily_search_results_json\n",
      "\n",
      "[{\"title\": \"AI News | Latest AI News, Analysis & Events\", \"url\": \"https://www.artificialintelligence-news.com/\", \"content\": \"March 4, 2025\\nAutoscience Carl: The first AI scientist writing peer-reviewed papers\\nApplications\\nMarch 3, 2025\\nDeep Learning\\nAlibaba Qwen QwQ-32B: Scaled reinforcement learning showcase\\nArtificial Intelligence\\nMarch 6, 2025\\nDeepSeek-R1 reasoning models rival OpenAI in performance\\nArtificial Intelligence\\nJanuary 20, 2025\\nNew AI training techniques aim to overcome current challenges\\nDeep & Reinforcement Learning\\nNovember 28, 2024 [...] Artificial Intelligence\\nMarch 14, 2025\\nOpenAI and Google call for US government action to secure AI lead\\n\\nArtificial Intelligence\\nMarch 14, 2025\\nCBRE: Leveraging Artificial Intelligence for business growth\\n\\nAGI\\nMarch 14, 2025\\nManus AI agent: breakthrough in China’s agentic AI\\n\\nApplications\\nMarch 13, 2025\\nServiceNow deploys AI agents to boost enterprise workflows [...] Latest\\nView All Latest\\n\\nSponsored Content\\nMarch 17, 2025\\nThe Kingdom’s digital transformation showcased at Smart Data & AI Summit\\n\\nArtificial Intelligence\\nMarch 17, 2025\\nBaidu undercuts rival AI models with ERNIE 4.5 and ERNIE X1\\n\\nArtificial Intelligence\\nMarch 17, 2025\\nDream properties at the touch of a button: Quant and Huawei in Saudi Arabia\\n\\nArtificial Intelligence\\nMarch 17, 2025\\nDeepSeek is a reminder to approach the AI unknown with caution\", \"score\": 0.8443195}, {\"title\": \"The latest AI news we announced in March - Google Blog\", \"url\": \"https://blog.google/technology/ai/google-ai-updates-march-2025/\", \"content\": \"Press corner\\n\\nRSS feed\\n\\nSubscribe\\nBreadcrumb\\n\\n\\nTechnology\\nAI\\n\\nThe latest AI news we announced in March\\nApr 04, 2025\\n·4 min read\\nShare\\nTwitterFacebookLinkedInMail\\nCopy link\\nHere’s a recap of some of our biggest AI updates from March, including Gemini 2.5 Pro, expanded access to AI Overviews, the release of AI Mode and more. [...] March was all about expanding AI across our products to make them even more helpful. The Gemini app was upgraded to include new features like personalization, Canvas and Audio Overviews, and we made our Deep Research and Gems features available at no cost. We also added our speedy Gemini 2.0 Flash Thinking experimental model under the hood — and one-upped ourselves just a few days later by making our most intelligent AI model, Gemini 2.5 Pro (experimental), available to all Gemini users. [...] We launched three new initiatives to protect and restore nature using AI. A startup accelerator, kicking off in May 2025, includes programming, mentoring and technical support from Google. Google.org is also providing $3 million to support AI-enabled solutions for biodiversity, bioeconomy and agriculture from Brazilian nonprofits. And we released SpeciesNet, a Cloud-based, open-source AI model for identifying animal species from camera trap photos, enabling people to protect nature and\", \"score\": 0.82186085}, {\"title\": \"Artificial intelligence - NBC News\", \"url\": \"https://www.nbcnews.com/artificial-intelligence\", \"content\": \"ARTIFICIAL INTELLIGENCE\\nThe latest news and top stories on artificial intelligence, including ChatGPT, AI Chatbot and Bard.\\n Getty Images\\nARTIFICIAL INTELLIGENCE\\n'Billionaires versus billionaires': OpenAI feud between Elon Musk, Sam Altman faces federal judge\\n SeongJoon Cho / Bloomberg via Getty Images file\\nARTIFICIAL INTELLIGENCE\\nOpenAI partners with U.S. National Laboratories on scientific research, nuclear weapons security\\nAI NEWS [...] TOP VIDEO\\n 03:36 -----\\nAI startup DeepSeek causes buzz in China but draws global scrutiny over censorship and security\\nNBC News NOW\\n 02:03 -----\\nA.I. leaders say China may have copied U.S. technology\\nNightly News\\n 08:23 -----\\nNew Chinese A.I. tool 'DeepSeek' competes with American models\\nNBC News NOW\\n 01:09 -----\\nChinese A.I. app shakes up Silicon Valley, causing Wall Street selloff\\nNightly News\\n 02:43 -----\\nFast food goes high tech with new A.I. drive-thrus\\nNightly News\\n 03:50 -----\", \"score\": 0.7498395}, {\"title\": \"AI News & Artificial Intelligence - TechCrunch\", \"url\": \"https://techcrunch.com/category/artificial-intelligence/\", \"content\": \"Maxwell Zeff\\n\\n4 days ago\\n\\n\\n\\nMedia & Entertainment\\nYouTube rolls out a free AI music-making tool for creators\\n\\nSarah Perez\\n\\n4 days ago\\n\\n\\n\\nAI\\nAmazon CEO Andy Jassy urges companies to invest heavily in AI\\n\\nRebecca Szkutak\\n\\n4 days ago\\n\\n\\n\\nClimate\\nGoogle thinks AI can untangle the electrical grid’s bureaucracy\\n\\nTim De Chant\\n\\n4 days ago\\n\\n\\n\\nAI\\nIncident.io raises $62M at a $400M valuation to help IT teams move fast when things break\\n\\nIngrid Lunden\\n\\n4 days ago [...] AI\\nAI models still struggle to debug software, Microsoft study shows\\n\\nKyle Wiggers\\n\\n4 days ago\\n\\n\\n\\nAI\\nThe US Secretary of Education referred to AI as ‘A1,’ like the steak sauce\\n\\nAmanda Silberling\\n\\n4 days ago\\n\\n\\n\\nApps\\nCanva is getting AI image generation, interactive coding, spreadsheets, and more\\n\\nIvan Mehta\\n\\n4 days ago\\n\\n\\n\\nAI\\nLiveKit’s tools power real-time communications, including OpenAI’s Voice Mode\\n\\nKyle Wiggers\\n\\n4 days ago\\n\\n\\n\\nAI\\nOpenAI updates ChatGPT to reference your past chats [...] AI\\nThe rise of AI ‘reasoning’ models is making benchmarking more expensive\\n\\nKyle Wiggers\\n\\n4 days ago\\n\\n\\n\\nFintech\\nAI insurtech Ominimo bags its first investment at a $220M valuation\\n\\nIngrid Lunden\\n\\n4 days ago\\n\\n\\n\\nAI\\nElon Musk’s AI company, xAI, launches an API for Grok 3\\n\\nKyle Wiggers\\n\\n4 days ago\\n\\n\\n\\nAI\\nGoogle to embrace Anthropic’s standard for connecting AI models to data\\n\\nKyle Wiggers\\n\\n5 days ago\\n\\n\\n\\nAI\\nOpenAI countersues Elon Musk, calls for enjoinment from ‘further unlawful and unfair action’\", \"score\": 0.735737}]\n",
      "=================================\u001b[1m Tool Message \u001b[0m=================================\n",
      "Name: arxiv\n",
      "\n",
      "Published: 2022-04-04\n",
      "Title: Evolution of Quantum Computing: A Systematic Survey on the Use of Quantum Computing Tools\n",
      "Authors: Paramita Basak Upama, Md Jobair Hossain Faruk, Mohammad Nazim, Mohammad Masum, Hossain Shahriar, Gias Uddin, Shabir Barzanjeh, Sheikh Iqbal Ahamed, Akond Rahman\n",
      "Summary: Quantum Computing (QC) refers to an emerging paradigm that inherits and\n",
      "builds with the concepts and phenomena of Quantum Mechanic (QM) with the\n",
      "significant potential to unlock a remarkable opportunity \n",
      "==================================\u001b[1m Ai Message \u001b[0m==================================\n",
      "\n",
      "Here’s the information based on the tool responses:\n",
      "\n",
      "---\n",
      "\n",
      "### **Recent AI News Highlights (as of early 2025):**\n",
      "1. **Major Developments:**\n",
      "   - **Autoscience Carl**: An AI system capable of writing peer-reviewed scientific papers autonomously.\n",
      "   - **Alibaba’s Qwen QwQ-32B**: A large-scale reinforcement learning model showcasing advancements in natural language processing.\n",
      "   - **DeepSeek-R1 Models**: Chinese AI startup DeepSeek released reasoning models that rival OpenAI’s capabilities, drawing both praise and scrutiny over censorship concerns.\n",
      "   - **Baidu’s ERNIE 4.5/X1**: Baidu introduced cost-effective AI tools, including ERNIE 4.5 and ERNIE X1, to compete globally.\n",
      "\n",
      "2. **Corporate & Regulatory Moves:**\n",
      "   - **Google & OpenAI Collaboration**: Both companies urged U.S. government action to secure leadership in AI development.\n",
      "   - **Google’s Climate AI Initiative**: Using AI to streamline energy grid management and combat climate change.\n",
      "   - **Microsoft’s Research Findings**: Highlighted challenges in AI debugging, emphasizing the need for better performance metrics.\n",
      "\n",
      "3. **Global AI Trends:**\n",
      "   - Saudi Arabia showcased AI-driven projects like \"Dream properties\" by Quant and Huawei.\n",
      "   - Startups like Incident.io raised funding to improve AI-driven IT solutions.\n",
      "\n",
      "---\n",
      "\n",
      "### **Recent Quantum Computing Research (Note: The tool returned a 2022 paper):**\n",
      "The most recent paper found via the query is:  \n",
      "**Title:** *Evolution of Quantum Computing: A Systematic Survey on the Use of Quantum Computing Tools*  \n",
      "**Authors:** Paramita Basak Upama et al. (2022)  \n",
      "**Summary:**  \n",
      "This paper provides a systematic review of quantum computing tools, exploring their applications and challenges in leveraging quantum mechanics principles. It discusses how quantum computing can unlock computational opportunities but emphasizes unresolved technical barriers, such as error correction and scalability.  \n",
      "\n",
      "**Note:** This paper is from 2022. For truly *recent* (2024–2025) research, I recommend refining the search terms or checking ArXiv directly for the latest submissions, as this tool’s response may not reflect the most up-to-date studies. Quantum computing research is rapidly evolving, so newer papers on topics like error-corrected qubits or quantum machine learning may exist.\n",
      "\n",
      "Let me know if you'd like help refining the search for more recent quantum computing papers!\n"
     ]
    }
   ],
   "source": [
    "messages=graph.invoke({\"messages\":\"What is the recent AI news and then please tell me the recent research paper on quantum computing?\"})\n",
    "for m in messages['messages']:\n",
    "    m.pretty_print()"
   ]
  },
  {
   "cell_type": "code",
   "execution_count": null,
   "metadata": {},
   "outputs": [],
   "source": []
  }
 ],
 "metadata": {
  "kernelspec": {
   "display_name": "Python 3",
   "language": "python",
   "name": "python3"
  },
  "language_info": {
   "codemirror_mode": {
    "name": "ipython",
    "version": 3
   },
   "file_extension": ".py",
   "mimetype": "text/x-python",
   "name": "python",
   "nbconvert_exporter": "python",
   "pygments_lexer": "ipython3",
   "version": "3.12.0"
  }
 },
 "nbformat": 4,
 "nbformat_minor": 2
}
